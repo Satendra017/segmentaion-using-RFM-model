{
 "cells": [
  {
   "cell_type": "code",
   "execution_count": 1,
   "id": "818d7cf8",
   "metadata": {},
   "outputs": [
    {
     "data": {
      "text/html": [
       "        <script type=\"text/javascript\">\n",
       "        window.PlotlyConfig = {MathJaxConfig: 'local'};\n",
       "        if (window.MathJax && window.MathJax.Hub && window.MathJax.Hub.Config) {window.MathJax.Hub.Config({SVG: {font: \"STIX-Web\"}});}\n",
       "        if (typeof require !== 'undefined') {\n",
       "        require.undef(\"plotly\");\n",
       "        requirejs.config({\n",
       "            paths: {\n",
       "                'plotly': ['https://cdn.plot.ly/plotly-2.12.1.min']\n",
       "            }\n",
       "        });\n",
       "        require(['plotly'], function(Plotly) {\n",
       "            window._Plotly = Plotly;\n",
       "        });\n",
       "        }\n",
       "        </script>\n",
       "        "
      ]
     },
     "metadata": {},
     "output_type": "display_data"
    }
   ],
   "source": [
    "import numpy as np\n",
    "import pandas as pd \n",
    "import seaborn as sns\n",
    "import matplotlib.pyplot as plt\n",
    "import scipy.stats as stats\n",
    "import datetime as dt\n",
    "%matplotlib inline\n",
    "\n",
    "import plotly.express as px\n",
    "import plotly.graph_objects as go\n",
    "import datetime\n",
    "\n",
    "from sklearn.compose import make_column_transformer\n",
    "\n",
    "# Scaling\n",
    "from sklearn.preprocessing import scale \n",
    "from sklearn.preprocessing import StandardScaler\n",
    "from sklearn.preprocessing import PolynomialFeatures \n",
    "from sklearn.preprocessing import OneHotEncoder\n",
    "from sklearn.preprocessing import PowerTransformer \n",
    "from sklearn.preprocessing import MinMaxScaler\n",
    "from sklearn.preprocessing import LabelEncoder\n",
    "from sklearn.preprocessing import RobustScaler\n",
    "\n",
    "# Modelling\n",
    "from sklearn.cluster import KMeans\n",
    "from sklearn.decomposition import PCA\n",
    "\n",
    "# Importing plotly and cufflinks in offline mode\n",
    "import cufflinks as cf\n",
    "import plotly.offline\n",
    "cf.go_offline()\n",
    "cf.set_config_file(offline=False, world_readable=True)\n",
    "import plotly.graph_objects as go\n",
    "\n",
    "# Ignore Warnings\n",
    "import warnings\n",
    "warnings.filterwarnings(\"ignore\")\n",
    "warnings.warn(\"this will not show\")\n",
    "\n",
    "# Figure&Display options\n",
    "plt.rcParams[\"figure.figsize\"] = (16, 9)\n",
    "pd.set_option('max_colwidth',200)\n",
    "pd.set_option('display.max_rows', 1000)\n",
    "pd.set_option('display.max_columns', 200)\n",
    "pd.set_option('display.float_format', lambda x: '%.2f' % x)\n",
    "\n",
    "# !pip install termcolor\n",
    "import colorama\n",
    "from colorama import Fore, Style  # makes strings colored\n",
    "from termcolor import colored\n",
    "from termcolor import cprint\n",
    "\n",
    "import ipywidgets\n",
    "from ipywidgets import interact\n",
    "\n",
    "\n",
    "# !pip install squarify\n",
    "import squarify as sq"
   ]
  },
  {
   "cell_type": "code",
   "execution_count": null,
   "id": "c9c532d8",
   "metadata": {},
   "outputs": [],
   "source": [
    "df=pd.read_excel(r'C:\\\\Users\\\\HP\\\\Downloads\\\\sales_data.xlsx')\n",
    "df.head(500)"
   ]
  },
  {
   "cell_type": "code",
   "execution_count": null,
   "id": "e59ebe69",
   "metadata": {},
   "outputs": [],
   "source": [
    "data=df.drop(\"CustomerID\",axis=1)"
   ]
  },
  {
   "cell_type": "code",
   "execution_count": null,
   "id": "e801d68f",
   "metadata": {},
   "outputs": [],
   "source": [
    "data.info()"
   ]
  },
  {
   "cell_type": "markdown",
   "id": "db8a19d5",
   "metadata": {},
   "source": [
    "df.isnull().sum()"
   ]
  },
  {
   "cell_type": "code",
   "execution_count": null,
   "id": "7da954f1",
   "metadata": {},
   "outputs": [],
   "source": [
    "data.describe()"
   ]
  },
  {
   "cell_type": "markdown",
   "id": "7762eebc",
   "metadata": {},
   "source": [
    "# In data analysis What all things we do\n",
    "1.Missing Vlues\n",
    "2.Explore About the numerical Variables\n",
    "3.fiding relaonship betwwen feaures"
   ]
  },
  {
   "cell_type": "code",
   "execution_count": null,
   "id": "944c6995",
   "metadata": {},
   "outputs": [],
   "source": [
    "data.isnull().sum()"
   ]
  },
  {
   "cell_type": "code",
   "execution_count": null,
   "id": "432b9bfc",
   "metadata": {},
   "outputs": [],
   "source": [
    "import seaborn as sns\n",
    "import matplotlib.pyplot as plt"
   ]
  },
  {
   "cell_type": "code",
   "execution_count": null,
   "id": "617bd140",
   "metadata": {},
   "outputs": [],
   "source": [
    "sns.set(rc = {'figure.figsize':(20,10)})\n",
    "sns.barplot(data=data ,x=\"TOTAL_ORDERS\",y=\"REVENUE\")\n"
   ]
  },
  {
   "cell_type": "code",
   "execution_count": null,
   "id": "a35039ef",
   "metadata": {},
   "outputs": [],
   "source": [
    "sns.barplot(data=data ,x=\"TOTAL_ORDERS\",y=\"AVERAGESHIPPING\")"
   ]
  },
  {
   "cell_type": "code",
   "execution_count": null,
   "id": "59da2c40",
   "metadata": {},
   "outputs": [],
   "source": [
    "sns.barplot(data=data ,x=\"TOTAL_ORDERS\",y=\"CARRIAGE_REVENUE\")"
   ]
  },
  {
   "cell_type": "code",
   "execution_count": null,
   "id": "7f743904",
   "metadata": {},
   "outputs": [],
   "source": [
    "sns.barplot(data=data ,x=\"WEEK1_DAY01_DAY07_ORDERS\",y=\"WEEK1_DAY01_DAY07_REVENUE\")"
   ]
  },
  {
   "cell_type": "code",
   "execution_count": null,
   "id": "bd2e2a26",
   "metadata": {},
   "outputs": [],
   "source": [
    "sns.barplot(data=data ,x=\"WEEK4_DAY24_DAY31_ORDERS\",y=\"WEEK4_DAY24_DAY31_REVENUE\")"
   ]
  },
  {
   "cell_type": "raw",
   "id": "272caf51",
   "metadata": {},
   "source": [
    "# Our goal in this Notebook is to cluster the customers in our data set to:\n",
    "\n",
    "Recognize who are our most valuable customers\n",
    "Increase revenue\n",
    "Increase customer retention\n",
    "Learn more about the trends and behaviors of our customers\n",
    "Define customers that are at risk"
   ]
  },
  {
   "cell_type": "code",
   "execution_count": null,
   "id": "e7e94e16",
   "metadata": {},
   "outputs": [],
   "source": [
    "import datetime as dt\n",
    "from datetime import datetime\n",
    "from datetime import timedelta"
   ]
  },
  {
   "cell_type": "raw",
   "id": "e2f05e6c",
   "metadata": {},
   "source": [
    "Calculating Recency\n",
    "\n",
    "\n",
    "Recency: Days since last purchase\n",
    "\n",
    "To calculate the recency values, follow these steps in order:\n",
    "\n",
    "1. To calculate recency, we need to choose a date as a point of reference to evaluate how many days ago was the customer's last purchase.\n",
    "2. Create a new column called Date which contains the invoice date without the timestamp.\n",
    "3. Group by CustomerID and check the last date of purchase.\n",
    "4. Calculate the days since last purchase.\n",
    "5. Drop Last_Purchase_Date since we don't need it anymore.\n",
    "6. Plot RFM distributions."
   ]
  },
  {
   "cell_type": "raw",
   "id": "a9900114",
   "metadata": {},
   "source": [
    "1. Choose a date as a point of reference to evaluate how many days ago was the customer's last purchase."
   ]
  },
  {
   "cell_type": "code",
   "execution_count": null,
   "id": "63cb6b60",
   "metadata": {},
   "outputs": [],
   "source": [
    "min_FIRST_ORDER_DATE = min(df['FIRST_ORDER_DATE'])\n",
    "min_FIRST_ORDER_DATE"
   ]
  },
  {
   "cell_type": "code",
   "execution_count": null,
   "id": "837ade73",
   "metadata": {},
   "outputs": [],
   "source": [
    "max_FIRST_ORDER_DATE = max(df['FIRST_ORDER_DATE'])\n",
    "max_FIRST_ORDER_DATE"
   ]
  },
  {
   "cell_type": "code",
   "execution_count": null,
   "id": "ba2f519c",
   "metadata": {},
   "outputs": [],
   "source": [
    "df['last_purchase_date'] = df.groupby('CustomerID')['FIRST_ORDER_DATE'].transform(max)"
   ]
  },
  {
   "cell_type": "code",
   "execution_count": null,
   "id": "6a7529f8",
   "metadata": {},
   "outputs": [],
   "source": [
    "df['last_purchase_date'] = pd.to_datetime(df['last_purchase_date']).dt.date"
   ]
  },
  {
   "cell_type": "code",
   "execution_count": null,
   "id": "01dc7300",
   "metadata": {},
   "outputs": [],
   "source": [
    "df.head()"
   ]
  },
  {
   "cell_type": "code",
   "execution_count": null,
   "id": "a623362d",
   "metadata": {},
   "outputs": [],
   "source": [
    "df.info()"
   ]
  },
  {
   "cell_type": "code",
   "execution_count": null,
   "id": "3ffcb842",
   "metadata": {},
   "outputs": [],
   "source": [
    "df['last_purchase_date'] = pd.to_datetime(df['last_purchase_date'])\n",
    "df['FIRST_ORDER_DATE'] = pd.to_datetime(df['FIRST_ORDER_DATE'])"
   ]
  },
  {
   "cell_type": "code",
   "execution_count": null,
   "id": "21ae4628",
   "metadata": {},
   "outputs": [],
   "source": [
    "df['ref_date'] = df['FIRST_ORDER_DATE'].max() + timedelta(days=7)"
   ]
  },
  {
   "cell_type": "code",
   "execution_count": null,
   "id": "39d1051b",
   "metadata": {},
   "outputs": [],
   "source": [
    "df['ref_date'] = df['ref_date'].dt.date"
   ]
  },
  {
   "cell_type": "code",
   "execution_count": null,
   "id": "7862f58c",
   "metadata": {},
   "outputs": [],
   "source": [
    "df['ref_date'] = pd.to_datetime(df['ref_date'])"
   ]
  },
  {
   "cell_type": "code",
   "execution_count": null,
   "id": "ff358e9f",
   "metadata": {},
   "outputs": [],
   "source": [
    "df.info()"
   ]
  },
  {
   "cell_type": "markdown",
   "id": "fa677dc8",
   "metadata": {},
   "source": [
    "2. Create a new column called Date which contains the invoice date without the timestamp"
   ]
  },
  {
   "cell_type": "code",
   "execution_count": null,
   "id": "8df6eb39",
   "metadata": {},
   "outputs": [],
   "source": [
    "df['date'] = pd.to_datetime(df['FIRST_ORDER_DATE'])"
   ]
  },
  {
   "cell_type": "code",
   "execution_count": null,
   "id": "c2a338d3",
   "metadata": {},
   "outputs": [],
   "source": [
    "df['date'] = df['date'].dt.date"
   ]
  },
  {
   "cell_type": "code",
   "execution_count": null,
   "id": "5d858e8b",
   "metadata": {},
   "outputs": [],
   "source": [
    "df.sample(4)"
   ]
  },
  {
   "cell_type": "markdown",
   "id": "c89d7496",
   "metadata": {},
   "source": [
    "3. Group by CustomerID and check the last date of purchase"
   ]
  },
  {
   "cell_type": "code",
   "execution_count": null,
   "id": "c3eca358",
   "metadata": {},
   "outputs": [],
   "source": [
    "customer_recency = pd.DataFrame(df.groupby('CustomerID', as_index=False).date.max())\n",
    "customer_recency.head()"
   ]
  },
  {
   "cell_type": "code",
   "execution_count": null,
   "id": "293c3846",
   "metadata": {},
   "outputs": [],
   "source": [
    "df[df[\"CustomerID\"] == 5][[\"CustomerID\", 'last_purchase_date']]"
   ]
  },
  {
   "cell_type": "code",
   "execution_count": null,
   "id": "6d647dab",
   "metadata": {},
   "outputs": [],
   "source": [
    "customer_recency.info()"
   ]
  },
  {
   "cell_type": "markdown",
   "id": "ca7e3a61",
   "metadata": {},
   "source": [
    "4. Calculate the days since last purchase"
   ]
  },
  {
   "cell_type": "code",
   "execution_count": null,
   "id": "663ffa7d",
   "metadata": {},
   "outputs": [],
   "source": [
    "df[\"customer_recency\"] = df[\"ref_date\"] - df[\"last_purchase_date\"]\n",
    "df[[\"CustomerID\", 'last_purchase_date', \"ref_date\", \"customer_recency\"]]"
   ]
  },
  {
   "cell_type": "code",
   "execution_count": null,
   "id": "bed17112",
   "metadata": {},
   "outputs": [],
   "source": [
    "df['recency2'] = pd.to_numeric(df['customer_recency'].dt.days.astype('int64'))\n",
    "df[[\"CustomerID\", 'last_purchase_date', \"ref_date\", \"customer_recency\", 'recency2']]"
   ]
  },
  {
   "cell_type": "code",
   "execution_count": null,
   "id": "e47127b5",
   "metadata": {},
   "outputs": [],
   "source": [
    "customer_recency = df.groupby('CustomerID', as_index=False)['recency2'].mean()\n",
    "customer_recency.rename(columns={'recency2':'Recency'}, inplace=True)\n",
    "customer_recency.sort_values(by='Recency', ascending=False).head()"
   ]
  },
  {
   "cell_type": "markdown",
   "id": "48c22a73",
   "metadata": {},
   "source": [
    "5. Drop Last_Purchase_Date since we don't need it anymore"
   ]
  },
  {
   "cell_type": "code",
   "execution_count": null,
   "id": "a8c0232c",
   "metadata": {},
   "outputs": [],
   "source": [
    "df.drop(['last_purchase_date'], axis = 1, inplace=True)\n",
    "df.head(3)"
   ]
  },
  {
   "cell_type": "markdown",
   "id": "e4bddaa6",
   "metadata": {},
   "source": [
    "6. Plot RFM distributions"
   ]
  },
  {
   "cell_type": "code",
   "execution_count": null,
   "id": "f8c282e7",
   "metadata": {},
   "outputs": [],
   "source": [
    "%matplotlib inline\n",
    "\n",
    "plt.figure(figsize=(10, 8))\n",
    "graph = sns.scatterplot(data=df, x=\"CustomerID\", y=\"recency2\")\n",
    "graph.axhline(100, color=\"blue\")\n",
    "plt.show();"
   ]
  },
  {
   "cell_type": "code",
   "execution_count": null,
   "id": "8ad42627",
   "metadata": {},
   "outputs": [],
   "source": [
    "fig = px.scatter(df, x=\"CustomerID\", y=\"recency2\")\n",
    "fig.show()"
   ]
  },
  {
   "cell_type": "code",
   "execution_count": null,
   "id": "1830107a",
   "metadata": {},
   "outputs": [],
   "source": [
    "fig = px.histogram(df, x=\"recency2\", nbins=70)\n",
    "fig.show()"
   ]
  },
  {
   "cell_type": "markdown",
   "id": "d8fc6382",
   "metadata": {},
   "source": [
    "# Calculating Frequency"
   ]
  },
  {
   "cell_type": "markdown",
   "id": "a75f38c1",
   "metadata": {},
   "source": [
    "1. Make a copy of dfuk and drop duplicates"
   ]
  },
  {
   "cell_type": "code",
   "execution_count": null,
   "id": "b37b605a",
   "metadata": {},
   "outputs": [],
   "source": [
    "dfUK_copy = df.copy()\n",
    "dfUK_copy.head(3)"
   ]
  },
  {
   "cell_type": "code",
   "execution_count": null,
   "id": "2016e0a7",
   "metadata": {},
   "outputs": [],
   "source": [
    "print(\"There are\", dfUK_copy.duplicated(subset=None, keep='first').sum(), \"duplicated observations in the dataset.\")\n",
    "print(dfUK_copy.duplicated(subset=None, keep='first').sum(), \"Duplicated observations are dropped!\")\n",
    "dfUK_copy.drop_duplicates(keep='first', inplace=True)"
   ]
  },
  {
   "cell_type": "markdown",
   "id": "a1bf7334",
   "metadata": {},
   "source": [
    "2. Calculate the frequency of purchases"
   ]
  },
  {
   "cell_type": "code",
   "execution_count": null,
   "id": "79b3e20c",
   "metadata": {},
   "outputs": [],
   "source": [
    "customer_frequency = dfUK_copy.groupby('CustomerID', as_index=False)['TOTAL_ORDERS'].nunique()\n",
    "customer_frequency.rename(columns={'TOTAL_ORDERS':'Frequency'}, inplace=True)\n",
    "customer_frequency.sort_values(by='Frequency', ascending=False)"
   ]
  },
  {
   "cell_type": "code",
   "execution_count": null,
   "id": "4c0a44ce",
   "metadata": {},
   "outputs": [],
   "source": [
    "customer_frequency.nlargest(5, \"Frequency\")"
   ]
  },
  {
   "cell_type": "markdown",
   "id": "15819d2b",
   "metadata": {},
   "source": [
    "3. Plot RFM distributions"
   ]
  },
  {
   "cell_type": "code",
   "execution_count": null,
   "id": "f427b867",
   "metadata": {},
   "outputs": [],
   "source": [
    "fig = px.scatter(customer_frequency, x=\"CustomerID\", y=\"Frequency\")\n",
    "fig.show()"
   ]
  },
  {
   "cell_type": "code",
   "execution_count": null,
   "id": "8101141b",
   "metadata": {},
   "outputs": [],
   "source": [
    "fig = px.histogram(customer_frequency, x=\"CustomerID\", y=\"Frequency\", nbins=3920)\n",
    "fig.show()"
   ]
  },
  {
   "cell_type": "code",
   "execution_count": null,
   "id": "6588c946",
   "metadata": {},
   "outputs": [],
   "source": [
    "plt.figure(figsize=(12, 6))\n",
    "sns.distplot(customer_frequency['Frequency'], kde=False, bins=50);"
   ]
  },
  {
   "cell_type": "markdown",
   "id": "e4fbb9b4",
   "metadata": {},
   "source": [
    "# Calculating Monetary Values"
   ]
  },
  {
   "cell_type": "markdown",
   "id": "f1f2ec7b",
   "metadata": {},
   "source": [
    "1. Calculate sum total cost by customers and named \"Monetary\""
   ]
  },
  {
   "cell_type": "code",
   "execution_count": null,
   "id": "0184b799",
   "metadata": {},
   "outputs": [],
   "source": [
    "customer_monetary = dfUK_copy.groupby('CustomerID', as_index=False)['REVENUE'].sum()\n",
    "customer_monetary.rename(columns={'REVENUE':'Monetary'}, inplace=True)\n",
    "customer_monetary.sort_values(by='Monetary', ascending=False).head()"
   ]
  },
  {
   "cell_type": "code",
   "execution_count": null,
   "id": "46ac9958",
   "metadata": {},
   "outputs": [],
   "source": [
    "customer_monetary.nlargest(5, \"Monetary\")"
   ]
  },
  {
   "cell_type": "markdown",
   "id": "0c4e8e0f",
   "metadata": {},
   "source": [
    "2. Plot RFM distributions"
   ]
  },
  {
   "cell_type": "code",
   "execution_count": null,
   "id": "df6250ef",
   "metadata": {},
   "outputs": [],
   "source": [
    "plt.figure(figsize=(14, 7))\n",
    "sns.scatterplot(data=customer_monetary.Monetary);"
   ]
  },
  {
   "cell_type": "code",
   "execution_count": null,
   "id": "86e0c0ce",
   "metadata": {},
   "outputs": [],
   "source": [
    "fig = px.scatter(customer_monetary, x=\"CustomerID\", y=\"Monetary\")\n",
    "fig.show()"
   ]
  },
  {
   "cell_type": "code",
   "execution_count": null,
   "id": "11e49b1e",
   "metadata": {},
   "outputs": [],
   "source": [
    "fig = px.histogram(customer_monetary, x=\"Monetary\", nbins=50)\n",
    "fig.show()"
   ]
  },
  {
   "cell_type": "markdown",
   "id": "7c473b9e",
   "metadata": {},
   "source": [
    "# Creating RFM Table"
   ]
  },
  {
   "cell_type": "markdown",
   "id": "a1cd3b6a",
   "metadata": {},
   "source": [
    "For creating the RFM Table, we need to merge the recency, frequency and monetary dataframes."
   ]
  },
  {
   "cell_type": "code",
   "execution_count": null,
   "id": "4bedb678",
   "metadata": {},
   "outputs": [],
   "source": [
    "dfUK_copy.head(3)"
   ]
  },
  {
   "cell_type": "code",
   "execution_count": null,
   "id": "0287338e",
   "metadata": {},
   "outputs": [],
   "source": [
    "customer_rfm = pd.merge(pd.merge(customer_recency, customer_frequency, on='CustomerID'), customer_monetary, on='CustomerID')\n",
    "customer_rfm.head()"
   ]
  },
  {
   "cell_type": "code",
   "execution_count": null,
   "id": "e97deca9",
   "metadata": {},
   "outputs": [],
   "source": [
    "customer_rfm.info()"
   ]
  },
  {
   "cell_type": "markdown",
   "id": "f15e8855",
   "metadata": {},
   "source": [
    "# CUSTOMER SEGMENTATION WITH RFM SCORES"
   ]
  },
  {
   "cell_type": "markdown",
   "id": "96385508",
   "metadata": {},
   "source": [
    "# Calculating RFM Scoring"
   ]
  },
  {
   "cell_type": "markdown",
   "id": "edabd82e",
   "metadata": {},
   "source": [
    "1. Dividing the customer_rfm into quarters"
   ]
  },
  {
   "cell_type": "code",
   "execution_count": null,
   "id": "e82c56b9",
   "metadata": {},
   "outputs": [],
   "source": [
    "customer_rfm.describe()"
   ]
  },
  {
   "cell_type": "code",
   "execution_count": null,
   "id": "d6d991e2",
   "metadata": {},
   "outputs": [],
   "source": [
    "quantiles = customer_rfm.quantile(q = [0.25, 0.50, 0.75])\n",
    "quantiles"
   ]
  },
  {
   "cell_type": "markdown",
   "id": "fcedea9a",
   "metadata": {},
   "source": [
    "# Creating the RFM Segmentation Table"
   ]
  },
  {
   "cell_type": "code",
   "execution_count": null,
   "id": "a1cc97bd",
   "metadata": {},
   "outputs": [],
   "source": [
    "def recency_scoring(rfm):\n",
    "    if rfm.Recency <= 24.0:\n",
    "        recency_score = 4\n",
    "    elif rfm.Recency <= 57.0:\n",
    "        recency_score = 3\n",
    "    elif rfm.Recency <= 149.0:\n",
    "        recency_score = 2\n",
    "    else:\n",
    "        recency_score = 1\n",
    "    return recency_score\n",
    "\n",
    "customer_rfm['Recency_Score'] = customer_rfm.apply(recency_scoring, axis=1)\n",
    "customer_rfm.sample(10)"
   ]
  },
  {
   "cell_type": "code",
   "execution_count": null,
   "id": "99c16449",
   "metadata": {},
   "outputs": [],
   "source": [
    "fig = px.pie(df, values = customer_rfm['Recency_Score'].value_counts(), \n",
    "             names = (customer_rfm[\"Recency_Score\"].value_counts()).index, \n",
    "             title = 'Recency Score Distribution')\n",
    "fig.show()"
   ]
  },
  {
   "cell_type": "code",
   "execution_count": null,
   "id": "d279cba9",
   "metadata": {},
   "outputs": [],
   "source": [
    "def frequency_scoring(rfm):\n",
    "    if rfm.Frequency >= 10.0:\n",
    "        frequency_score = 4\n",
    "    elif rfm.Frequency >= 5.0:\n",
    "        frequency_score = 3\n",
    "    elif rfm.Frequency >= 2.0:\n",
    "        frequency_score = 2\n",
    "    else:\n",
    "        frequency_score = 1\n",
    "    return frequency_score\n",
    "\n",
    "customer_rfm['Frequency_Score'] = customer_rfm.apply(frequency_scoring, axis=1)\n",
    "customer_rfm.sample(10)"
   ]
  },
  {
   "cell_type": "code",
   "execution_count": null,
   "id": "45be2c7c",
   "metadata": {},
   "outputs": [],
   "source": [
    "fig = px.pie(df, values = customer_rfm['Frequency_Score'].value_counts(), \n",
    "             names = (customer_rfm[\"Frequency_Score\"].value_counts()).index, \n",
    "             title = 'Frequency Score Distribution')\n",
    "fig.show()"
   ]
  },
  {
   "cell_type": "code",
   "execution_count": null,
   "id": "c49c79f1",
   "metadata": {},
   "outputs": [],
   "source": [
    "def monetary_scoring(rfm):\n",
    "    if rfm.Monetary >= 1571.0:\n",
    "        monetary_score = 4\n",
    "    elif rfm.Monetary >= 645.0:\n",
    "        monetary_score = 3\n",
    "    elif rfm.Monetary >= 298.0:\n",
    "        monetary_score = 2\n",
    "    else:\n",
    "        monetary_score = 1\n",
    "    return monetary_score\n",
    "\n",
    "customer_rfm['Monetary_Score'] = customer_rfm.apply(monetary_scoring, axis=1)\n",
    "customer_rfm.sample(10)"
   ]
  },
  {
   "cell_type": "code",
   "execution_count": null,
   "id": "bb7e907e",
   "metadata": {},
   "outputs": [],
   "source": [
    "fig = px.pie(df, values = customer_rfm['Monetary_Score'].value_counts(), \n",
    "             names = (customer_rfm[\"Monetary_Score\"].value_counts()).index, \n",
    "             title = 'Monetary Score Distribution')\n",
    "fig.show()"
   ]
  },
  {
   "cell_type": "code",
   "execution_count": null,
   "id": "797a908d",
   "metadata": {},
   "outputs": [],
   "source": [
    "customer_rfm.info()"
   ]
  },
  {
   "cell_type": "markdown",
   "id": "70f7a03a",
   "metadata": {},
   "source": [
    "3. Now that scored each customer, you'll combine the scores for segmentation."
   ]
  },
  {
   "cell_type": "code",
   "execution_count": null,
   "id": "b34c9f6b",
   "metadata": {},
   "outputs": [],
   "source": [
    "def rfm_scoring(customer):\n",
    "    return str(int(customer['Recency_Score'])) + str(int(customer['Frequency_Score'])) + str(int(customer['Monetary_Score']))\n",
    "\n",
    "\n",
    "customer_rfm['Customer_RFM_Score'] = customer_rfm.apply(rfm_scoring, axis=1)\n",
    "customer_rfm.sample(8)"
   ]
  },
  {
   "cell_type": "code",
   "execution_count": null,
   "id": "5536a6e1",
   "metadata": {},
   "outputs": [],
   "source": [
    "fig = px.histogram(customer_rfm, x = customer_rfm['Customer_RFM_Score'].value_counts().index, \n",
    "                   y = customer_rfm['Customer_RFM_Score'].value_counts().values, \n",
    "                   title = 'Customer RFM Score Distribution',\n",
    "                   labels = dict(x = \"Customer_RFM_Score\", y =\"counts\"))\n",
    "fig.show()"
   ]
  },
  {
   "cell_type": "markdown",
   "id": "ec20c21e",
   "metadata": {},
   "source": [
    "4. Define rfm_level function that tags customers by using RFM_Scrores and Create a new variable RFM_Label."
   ]
  },
  {
   "cell_type": "code",
   "execution_count": null,
   "id": "9c00d2e6",
   "metadata": {},
   "outputs": [],
   "source": [
    "customer_rfm['RFM_Label'] = customer_rfm['Recency_Score'] + customer_rfm['Frequency_Score'] + customer_rfm['Monetary_Score']\n",
    "\n",
    "customer_rfm.sample(8)"
   ]
  },
  {
   "cell_type": "code",
   "execution_count": null,
   "id": "fbedcc47",
   "metadata": {},
   "outputs": [],
   "source": [
    "customer_rfm.info()"
   ]
  },
  {
   "cell_type": "code",
   "execution_count": null,
   "id": "711e7aee",
   "metadata": {},
   "outputs": [],
   "source": [
    "customer_rfm.groupby(['Customer_RFM_Score']).size().sort_values(ascending=False)[:]"
   ]
  },
  {
   "cell_type": "code",
   "execution_count": null,
   "id": "7b015c80",
   "metadata": {},
   "outputs": [],
   "source": [
    "customer_rfm[customer_rfm['Customer_RFM_Score']=='111'].head(3)"
   ]
  },
  {
   "cell_type": "code",
   "execution_count": null,
   "id": "7e67fe75",
   "metadata": {},
   "outputs": [],
   "source": [
    "customer_rfm[customer_rfm['Customer_RFM_Score']=='222'].head(3)"
   ]
  },
  {
   "cell_type": "code",
   "execution_count": null,
   "id": "19b3d40b",
   "metadata": {},
   "outputs": [],
   "source": [
    "fig = px.pie(df, values = customer_rfm['RFM_Label'].value_counts(), \n",
    "             names = (customer_rfm[\"RFM_Label\"].value_counts()).index, \n",
    "             title = 'RFM Label Distribution')\n",
    "fig.show()"
   ]
  },
  {
   "cell_type": "code",
   "execution_count": null,
   "id": "a20731d0",
   "metadata": {},
   "outputs": [],
   "source": [
    "customer_rfm['RFM_Label'].min()"
   ]
  },
  {
   "cell_type": "code",
   "execution_count": null,
   "id": "2bd0717d",
   "metadata": {},
   "outputs": [],
   "source": [
    "customer_rfm['RFM_Label'].max()"
   ]
  },
  {
   "cell_type": "code",
   "execution_count": null,
   "id": "1b0a3147",
   "metadata": {},
   "outputs": [],
   "source": [
    "np.sort(customer_rfm['RFM_Label'].unique())"
   ]
  },
  {
   "cell_type": "code",
   "execution_count": null,
   "id": "b7b5e184",
   "metadata": {},
   "outputs": [],
   "source": [
    "segments = {'Customer_Segment':[ \n",
    "                                'Champions', \n",
    "                                'Potential customer', \n",
    "                                'Top Recent Customer', \n",
    "                                'Recent Customer', \n",
    "                                'Top Customer Needed Attention', \n",
    "                                'Customer Needed Attention', \n",
    "                                'Top Lost Customer', \n",
    "                                'Lost Customer'],\n",
    "            'RFM':[ \n",
    "                   '(3)-(1|2|3|4)-(3|4)', \n",
    "                   '(3)-(1|2|3|4)-(1|2)', \n",
    "                   '(4)-(1|2|3|4)-(3|4)', \n",
    "                   '(4)-(1|2|3|4)-(1|2)',\n",
    "                   '(2|3)-(1|2|3|4)-(3|4)', \n",
    "                   '(2|3)-(1|2|3|4)-(1|2)',\n",
    "                   '(1)-(1|2|3|4)-(3|4)', \n",
    "                   '(1)-(1|2|3|4)-(1|2)',]}\n",
    "\n",
    "pd.DataFrame(segments)"
   ]
  },
  {
   "cell_type": "code",
   "execution_count": null,
   "id": "49015202",
   "metadata": {},
   "outputs": [],
   "source": [
    "def categorizer(rfm):\n",
    "    \n",
    "    if (rfm[0] in ['3']) & (rfm[1] in ['1', '2', '3', '4']) & (rfm[2] in ['3', '4']):\n",
    "        rfm = 'Champions'\n",
    " \n",
    "        \n",
    "    elif (rfm[0] in ['3']) & (rfm[1] in ['1', '2', '3', '4']) & (rfm[2] in ['1', '2']):\n",
    "        rfm = 'Potential customers'\n",
    "    \n",
    "    elif (rfm[0] in ['4']) & (rfm[1] in ['1', '2', '3', '4']) & (rfm[2] in ['3', '4']):\n",
    "        rfm = 'Top Recent Customer'\n",
    "    \n",
    "    elif (rfm[0] in ['4']) & (rfm[1] in ['1', '2', '3', '4']) & (rfm[2] in ['1', '2']):\n",
    "        rfm = 'Recent Customer'\n",
    "    \n",
    "    elif (rfm[0] in ['2', '3']) & (rfm[1] in ['1', '2', '3', '4']) & (rfm[2] in ['3', '4']):\n",
    "        rfm = 'Top Customer Needed Attention'    \n",
    "   \n",
    "    elif (rfm[0] in ['2', '3']) & (rfm[1] in ['1', '2', '3', '4']) & (rfm[2] in ['1', '2']):\n",
    "        rfm = 'Customer Needed Attention'\n",
    "    \n",
    "    elif (rfm[0] in ['1']) & (rfm[1] in ['1', '2', '3', '4']) & (rfm[2] in ['3', '4']):\n",
    "        rfm = 'Top Lost Customer'\n",
    "                \n",
    "    elif (rfm[0] in ['1']) & (rfm[1] in ['1', '2', '3', '4']) & (rfm[2] in ['1', '2']):\n",
    "        rfm = 'Lost Customer'\n",
    "    \n",
    "    return rfm \n",
    " "
   ]
  },
  {
   "cell_type": "code",
   "execution_count": null,
   "id": "31287489",
   "metadata": {},
   "outputs": [],
   "source": [
    "customer_rfm['Customer_Category'] = customer_rfm[\"Customer_RFM_Score\"].apply(categorizer)\n",
    "customer_rfm"
   ]
  },
  {
   "cell_type": "code",
   "execution_count": null,
   "id": "9c749c6b",
   "metadata": {},
   "outputs": [],
   "source": [
    "customer_rfm.groupby('Customer_Category').RFM_Label.mean()"
   ]
  },
  {
   "cell_type": "code",
   "execution_count": null,
   "id": "730cbfe5",
   "metadata": {},
   "outputs": [],
   "source": [
    "customer_rfm['Customer_Category'].value_counts(dropna=False, normalize=True)*100"
   ]
  },
  {
   "cell_type": "code",
   "execution_count": null,
   "id": "6c4b5036",
   "metadata": {},
   "outputs": [],
   "source": [
    "customer_rfm[customer_rfm['Customer_Category'] == \"Recent Customer\"].sample(8)"
   ]
  },
  {
   "cell_type": "code",
   "execution_count": null,
   "id": "9b18951b",
   "metadata": {},
   "outputs": [],
   "source": [
    "fig = px.histogram(customer_rfm, \n",
    "                   x = customer_rfm['Customer_Category'].value_counts().index, \n",
    "                   y = customer_rfm['Customer_Category'].value_counts().values, \n",
    "                   title = 'Customer Category Distribution',\n",
    "                   labels = dict(x = \"Customer_Category\", y =\"counts\"))\n",
    "fig.show()"
   ]
  },
  {
   "cell_type": "code",
   "execution_count": null,
   "id": "03c48f50",
   "metadata": {},
   "outputs": [],
   "source": [
    "fig = px.pie(df, \n",
    "             values = customer_rfm['Customer_Category'].value_counts(), \n",
    "             names = (customer_rfm[\"Customer_Category\"].value_counts()).index, \n",
    "             title = 'Customer Category Distribution')\n",
    "fig.show()"
   ]
  },
  {
   "cell_type": "markdown",
   "id": "4c1437ee",
   "metadata": {},
   "source": [
    "5. Calculate average values for each RFM_Label, and return a size of each segment."
   ]
  },
  {
   "cell_type": "code",
   "execution_count": null,
   "id": "29493bc8",
   "metadata": {},
   "outputs": [],
   "source": [
    "customer_rfm"
   ]
  },
  {
   "cell_type": "code",
   "execution_count": null,
   "id": "66a17aa6",
   "metadata": {},
   "outputs": [],
   "source": [
    "Avg_RFM_Label = customer_rfm.groupby('Customer_Category').RFM_Label.mean()\n",
    "Size_RFM_Label = customer_rfm['Customer_Category'].value_counts()\n",
    "df_customer_segmentation = pd.concat([Avg_RFM_Label, Size_RFM_Label], axis=1).rename(columns={'RFM_Label':'Avg_RFM_Label',\n",
    "                                                                           'Customer_Category':'Size_RFM_Label'})\n",
    "df_customer_segmentation"
   ]
  },
  {
   "cell_type": "code",
   "execution_count": null,
   "id": "2867ebd6",
   "metadata": {},
   "outputs": [],
   "source": [
    "fig = px.histogram(customer_rfm, \n",
    "                   x = customer_rfm.groupby('Customer_Category').RFM_Label.mean().sort_values(ascending=False).index, \n",
    "                   y = customer_rfm.groupby('Customer_Category').RFM_Label.mean().sort_values(ascending=False).values, \n",
    "                   title = 'The Average of RFM Label',\n",
    "                   labels = dict(x = \"Customer Segments (Categories)\", y =\"RFM Label Mean Values\"))\n",
    "fig.show()"
   ]
  },
  {
   "cell_type": "code",
   "execution_count": null,
   "id": "c4467cbb",
   "metadata": {},
   "outputs": [],
   "source": [
    "fig = px.treemap(df_customer_segmentation, \n",
    "                 path=[df_customer_segmentation.index], \n",
    "                 values='Avg_RFM_Label', \n",
    "                 width=950, height=600)\n",
    "\n",
    "fig.update_layout(title_text='The Average of Each Customer Segments',\n",
    "                  title_x=0.5, title_font=dict(size=20)\n",
    "                  )\n",
    "fig.update_layout(margin = dict(t=50, l=25, r=25, b=25))\n",
    "fig.show()"
   ]
  },
  {
   "cell_type": "code",
   "execution_count": null,
   "id": "11982e0b",
   "metadata": {},
   "outputs": [],
   "source": [
    "fig = px.histogram(customer_rfm, \n",
    "                   x = customer_rfm['Customer_Category'].value_counts().index, \n",
    "                   y = customer_rfm['Customer_Category'].value_counts().values, \n",
    "                   title = 'The Size of RFM Label',\n",
    "                   labels = dict(x = \"Customer Segments (Categories)\", y =\"RFM Label Mean Values\"))\n",
    "fig.show()"
   ]
  },
  {
   "cell_type": "code",
   "execution_count": null,
   "id": "f65d58e2",
   "metadata": {},
   "outputs": [],
   "source": [
    "fig = px.treemap(df_customer_segmentation, \n",
    "                 path=[df_customer_segmentation.index], \n",
    "                 values='Size_RFM_Label', \n",
    "                 width=950, height=600)\n",
    "\n",
    "fig.update_layout(title_text='Customer Segmentation',\n",
    "                  title_x=0.5, title_font=dict(size=20)\n",
    "                  )\n",
    "fig.update_layout(margin = dict(t=50, l=25, r=25, b=25))\n",
    "fig.show()"
   ]
  },
  {
   "cell_type": "markdown",
   "id": "474cfc0d",
   "metadata": {},
   "source": [
    "# Plotting RFM Segments"
   ]
  },
  {
   "cell_type": "markdown",
   "id": "d8a3fea5",
   "metadata": {},
   "source": [
    "1. Create your plot and resize it."
   ]
  },
  {
   "cell_type": "code",
   "execution_count": null,
   "id": "92fc4bb2",
   "metadata": {},
   "outputs": [],
   "source": [
    "customer_rfm.head(3)"
   ]
  },
  {
   "cell_type": "code",
   "execution_count": null,
   "id": "0f578b2a",
   "metadata": {},
   "outputs": [],
   "source": [
    "segmentation = pd.DataFrame(customer_rfm.Customer_Category.value_counts(dropna=False).sort_values(ascending=False))\n",
    "segmentation.reset_index(inplace=True)\n",
    "segmentation.rename(columns={'index':'Customer Category', 'Customer_Category':'The Number Of Customer'}, inplace=True)\n",
    "segmentation"
   ]
  },
  {
   "cell_type": "code",
   "execution_count": null,
   "id": "56ad8c76",
   "metadata": {},
   "outputs": [],
   "source": [
    "plt.figure(figsize=(19, 8))\n",
    "\n",
    "sns.barplot(data=segmentation, x='Customer Category', y='The Number Of Customer', palette='Oranges_r');"
   ]
  },
  {
   "cell_type": "code",
   "execution_count": null,
   "id": "301177cc",
   "metadata": {},
   "outputs": [],
   "source": [
    "plt.figure(figsize=(14, 7))\n",
    "sns.lineplot(x=df_customer_segmentation.index, y=df_customer_segmentation.Avg_RFM_Label)\n",
    "plt.xticks(rotation=30, fontsize=14);"
   ]
  },
  {
   "cell_type": "code",
   "execution_count": null,
   "id": "3654c4c8",
   "metadata": {},
   "outputs": [],
   "source": [
    "fig = px.bar(segmentation, x='Customer Category', y='The Number Of Customer')\n",
    "fig.show()"
   ]
  },
  {
   "cell_type": "markdown",
   "id": "941e809f",
   "metadata": {},
   "source": [
    "Using customer segmentation categories found here we can formulate different marketing strategies and approaches for customer engagement for each type of customer.\n",
    "\n",
    "Note: The author in the article scores 1 as the highest and 4 as the lowest"
   ]
  },
  {
   "cell_type": "markdown",
   "id": "a0746972",
   "metadata": {},
   "source": [
    "2. How many customers do we have in each segment?"
   ]
  },
  {
   "cell_type": "code",
   "execution_count": null,
   "id": "51dfa78f",
   "metadata": {},
   "outputs": [],
   "source": [
    "segmentation"
   ]
  },
  {
   "cell_type": "markdown",
   "id": "fb959b17",
   "metadata": {},
   "source": [
    "Segment Visualization with Plotly Matplotlib Squarify"
   ]
  },
  {
   "cell_type": "code",
   "execution_count": null,
   "id": "bf47bdcd",
   "metadata": {},
   "outputs": [],
   "source": [
    "\n",
    "fig = plt.gcf()\n",
    "ax = fig.add_subplot()\n",
    "fig.set_size_inches(20, 10)\n",
    "sq.plot(sizes=segmentation['The Number Of Customer'], \n",
    "                      label=['Lost Customer', \n",
    "                            'Customer Needed Attention', \n",
    "                            'Top Recent Customer', \n",
    "                            'Champion', \n",
    "                            'Top Customer Needed Attention', \n",
    "                            'Potential customer', \n",
    "                            \n",
    "                            'Recent Customer', \n",
    "                            'Top Lost Customer'], \n",
    "                            alpha=0.8, \n",
    "                            color=[\"red\", \"#48BCF5\", \"#DD6AE1\", \"blue\", \"cyan\", \"magenta\", '#B20CB7', \"#A4E919\"])\n",
    "plt.title(\"RFM Segments\", fontsize=18, fontweight=\"bold\")\n",
    "plt.axis('off')\n",
    "plt.show()"
   ]
  },
  {
   "cell_type": "markdown",
   "id": "f1b4bc5b",
   "metadata": {},
   "source": [
    "Segment Visualization with Plotly TreeMap"
   ]
  },
  {
   "cell_type": "code",
   "execution_count": null,
   "id": "b36da53a",
   "metadata": {},
   "outputs": [],
   "source": [
    "fig = px.treemap(segmentation,\n",
    "                 path=[segmentation['Customer Category']], \n",
    "                 values='The Number Of Customer', \n",
    "                 width=900, \n",
    "                 height=600)\n",
    "fig.update_layout(title=\"RFM Segments\",\n",
    "                  title_x = 0.5, title_font = dict(size=18),\n",
    "                 )\n",
    "fig.update_layout(margin = dict(t=50, l=25, r=25, b=25))\n",
    "fig.show()"
   ]
  },
  {
   "cell_type": "markdown",
   "id": "e50c1d5f",
   "metadata": {},
   "source": [
    "# APPLYING K-MEANS CLUSTERING"
   ]
  },
  {
   "cell_type": "markdown",
   "id": "c116f305",
   "metadata": {},
   "source": [
    " Data Pre-Processing & Exploring"
   ]
  },
  {
   "cell_type": "code",
   "execution_count": null,
   "id": "203379f0",
   "metadata": {},
   "outputs": [],
   "source": [
    "customer_rfm.sample(5)"
   ]
  },
  {
   "cell_type": "code",
   "execution_count": null,
   "id": "77dec952",
   "metadata": {},
   "outputs": [],
   "source": [
    "customer_rfm.groupby('RFM_Label')[['Recency_Score', 'Frequency_Score', 'Monetary_Score']].describe().style.background_gradient(cmap='RdPu')"
   ]
  },
  {
   "cell_type": "markdown",
   "id": "1d4a30bf",
   "metadata": {},
   "source": [
    " Defining and Plot Feature Correlations"
   ]
  },
  {
   "cell_type": "code",
   "execution_count": null,
   "id": "52346d1c",
   "metadata": {},
   "outputs": [],
   "source": [
    "customer_rfm.corr()"
   ]
  },
  {
   "cell_type": "markdown",
   "id": "1554b7bd",
   "metadata": {},
   "source": [
    "Let's check if there exits a multicollinearity problem among the features."
   ]
  },
  {
   "cell_type": "code",
   "execution_count": null,
   "id": "3ceaa17a",
   "metadata": {},
   "outputs": [],
   "source": [
    "df_temp = customer_rfm.corr()\n",
    "\n",
    "feature =[]\n",
    "collinear=[]\n",
    "\n",
    "for col in df_temp.columns:\n",
    "    for i in df_temp.index:\n",
    "        if (df_temp[col][i]> .85 and df_temp[col][i] < 1) or (df_temp[col][i]< -.85 and df_temp[col][i] > -1) :\n",
    "                feature.append(col)\n",
    "                collinear.append(i)\n",
    "                print(Fore.RED + f\"\\033[1mmulticolinearity alert\\033[0m between {col} - {i}\")\n",
    "        else:\n",
    "            print(f\"For {col} and {i}, there is \\033[1mNO multicollinearity problem\\033[0m\") \n",
    "\n",
    "unique_list = list(set(feature+collinear))\n",
    "\n",
    "print(colored('*'*80, 'cyan', attrs=['bold']))\n",
    "print(\"\\033[1mThe total number of strong corelated features:\\033[0m\", len(unique_list)) "
   ]
  },
  {
   "cell_type": "code",
   "execution_count": null,
   "id": "128dd806",
   "metadata": {},
   "outputs": [],
   "source": [
    "sns.set_style(\"whitegrid\")\n",
    "plt.figure(figsize=(14, 10))\n",
    "\n",
    "# Getting the Upper Triangle of the co-relation matrix\n",
    "matrix = np.triu(customer_rfm.corr())\n",
    "\n",
    "# using the upper triangle matrix as mask \n",
    "sns.heatmap(customer_rfm.corr(), annot=True, cmap = sns.cubehelix_palette(8), mask=matrix)\n",
    "\n",
    "plt.xticks(rotation=45);"
   ]
  },
  {
   "cell_type": "code",
   "execution_count": null,
   "id": "da8d3c19",
   "metadata": {},
   "outputs": [],
   "source": [
    "customer_rfm.head(3)"
   ]
  },
  {
   "cell_type": "code",
   "execution_count": null,
   "id": "722bb86c",
   "metadata": {},
   "outputs": [],
   "source": [
    "g = sns.scatterplot(data=customer_rfm, x=\"RFM_Label\", y=\"Recency_Score\", hue=\"Customer_Category\")\n",
    "g.legend(loc='center left', bbox_to_anchor=(1, 0.85), ncol=1);"
   ]
  },
  {
   "cell_type": "code",
   "execution_count": null,
   "id": "2699c3c7",
   "metadata": {},
   "outputs": [],
   "source": [
    "g = sns.scatterplot(data=customer_rfm, x=\"RFM_Label\", y=\"Monetary_Score\", hue=\"Customer_Category\")\n",
    "g.legend(loc='center left', bbox_to_anchor=(1, 0.85), ncol=1);"
   ]
  },
  {
   "cell_type": "code",
   "execution_count": null,
   "id": "adc3d141",
   "metadata": {},
   "outputs": [],
   "source": [
    "g = sns.scatterplot(data=customer_rfm, x=\"RFM_Label\", y=\"Frequency_Score\", hue=\"Customer_Category\")\n",
    "g.legend(loc='center left', bbox_to_anchor=(1, 0.85), ncol=1);"
   ]
  },
  {
   "cell_type": "markdown",
   "id": "05276f0d",
   "metadata": {},
   "source": [
    "It seems that there have been strong correlations between RFM_Label and the features including RFM scores; however, it should be remembered that RFM_Label were derived from these related RFM scores. So the strong relationship among them is inevitable and acceptable and does NOT create any problem for our analysis."
   ]
  },
  {
   "cell_type": "markdown",
   "id": "56bcf6d7",
   "metadata": {},
   "source": [
    "# Visualizing Feature Distributions"
   ]
  },
  {
   "cell_type": "code",
   "execution_count": null,
   "id": "aa2d5450",
   "metadata": {},
   "outputs": [],
   "source": [
    "plt.figure(figsize=(20, 20))\n",
    "sns.pairplot(customer_rfm[['Recency', 'Frequency', 'Monetary','Customer_Category']], hue='Customer_Category');"
   ]
  },
  {
   "cell_type": "code",
   "execution_count": null,
   "id": "4dda4966",
   "metadata": {},
   "outputs": [],
   "source": [
    "plt.figure(figsize=(20, 20))\n",
    "sns.pairplot(customer_rfm[['Recency', 'Frequency', 'Monetary','Customer_Category']], hue='Customer_Category');"
   ]
  },
  {
   "cell_type": "code",
   "execution_count": null,
   "id": "d9d6594f",
   "metadata": {},
   "outputs": [],
   "source": [
    "customer_rfm[['Recency', 'Frequency', 'Monetary']].iplot(kind='histogram', subplots=True, bins=50)"
   ]
  },
  {
   "cell_type": "code",
   "execution_count": null,
   "id": "806fc25b",
   "metadata": {},
   "outputs": [],
   "source": [
    "# plot the distribution of RFM values\n",
    "\n",
    "f, ax = plt.subplots(figsize=(10, 12))\n",
    "plt.subplot(3, 1, 1); sns.distplot(customer_rfm.Recency, label = 'Recency')\n",
    "plt.subplot(3, 1, 2); sns.distplot(customer_rfm.Frequency, label = 'Frequency')\n",
    "plt.subplot(3, 1, 3); sns.distplot(customer_rfm.Monetary, label = 'Monetary')\n",
    "plt.style.use('fivethirtyeight')\n",
    "plt.tight_layout()\n",
    "plt.show()"
   ]
  },
  {
   "cell_type": "markdown",
   "id": "e5baed99",
   "metadata": {},
   "source": [
    "# Data Normalization"
   ]
  },
  {
   "cell_type": "code",
   "execution_count": null,
   "id": "5f03aa43",
   "metadata": {},
   "outputs": [],
   "source": [
    "customer_rfm[['Recency', 'Frequency', 'Monetary']].sample(10)"
   ]
  },
  {
   "cell_type": "code",
   "execution_count": null,
   "id": "e3c94cdf",
   "metadata": {},
   "outputs": [],
   "source": [
    "matrix = np.triu(customer_rfm[['Recency','Frequency','Monetary']].corr())\n",
    "fig, ax = plt.subplots(figsize=(11, 6)) \n",
    "sns.heatmap (customer_rfm[['Recency','Frequency','Monetary']].corr(), \n",
    "             annot=True, \n",
    "             fmt= '.2f', \n",
    "             vmin=-1, \n",
    "             vmax=1, \n",
    "             center=0, \n",
    "             cmap='coolwarm',\n",
    "             mask=matrix, \n",
    "             ax=ax);"
   ]
  },
  {
   "cell_type": "code",
   "execution_count": null,
   "id": "be69b2a5",
   "metadata": {},
   "outputs": [],
   "source": [
    "customer_rfm.set_index(\"CustomerID\", inplace=True)\n",
    "cell=customer_rfm.copy()"
   ]
  },
  {
   "cell_type": "code",
   "execution_count": null,
   "id": "e8518545",
   "metadata": {},
   "outputs": [],
   "source": [
    "# **Handling with Skewness - np.log**\n",
    "\n",
    "skew_limit = 0.75 # This is our threshold-limit to evaluate skewness. Overall below abs(1) seems acceptable for the linear models. \n",
    "skew_vals = customer_rfm[['Recency', 'Frequency', 'Monetary']].skew()\n",
    "skew_cols = skew_vals[abs(skew_vals)> skew_limit].sort_values(ascending=False)\n",
    "skew_cols"
   ]
  },
  {
   "cell_type": "code",
   "execution_count": null,
   "id": "6ddb31b8",
   "metadata": {},
   "outputs": [],
   "source": [
    "rfm_log = customer_rfm[skew_cols.index].copy()\n",
    "\n",
    "for col in skew_cols.index.values:\n",
    "    rfm_log[col] = rfm_log[col].apply(np.log1p)\n",
    "\n",
    "    print(rfm_log.skew())\n",
    "print()\n",
    "\n",
    "rfm_log.iplot(kind='histogram', subplots=True, bins=50);"
   ]
  },
  {
   "cell_type": "markdown",
   "id": "0f142ec3",
   "metadata": {},
   "source": [
    "0.75 is our threshold-limit to evaluate skewness. Overall below abs(1) seems acceptable for the linear models."
   ]
  },
  {
   "cell_type": "code",
   "execution_count": null,
   "id": "0e38d804",
   "metadata": {},
   "outputs": [],
   "source": [
    "#  Interpreting Skewness \n",
    "\n",
    "for skew in rfm_log.skew():\n",
    "    if -0.75 < skew < 0.75:\n",
    "        print (\"A skewness value of\", '\\033[1m', Fore.GREEN, skew, '\\033[0m', \"means that the distribution is approx.\", '\\033[1m', Fore.GREEN, \"symmetric\", '\\033[0m')\n",
    "    elif  -0.75 < skew < -1.0 or 0.75 < skew < 1.0:\n",
    "        print (\"A skewness value of\", '\\033[1m', Fore.YELLOW, skew, '\\033[0m', \"means that the distribution is approx.\", '\\033[1m', Fore.YELLOW, \"moderately skewed\", '\\033[0m')\n",
    "    else:\n",
    "        print (\"A skewness value of\", '\\033[1m', Fore.RED, skew, '\\033[0m', \"means that the distribution is approx.\", '\\033[1m', Fore.RED, \"highly skewed\", '\\033[0m')\n"
   ]
  },
  {
   "cell_type": "code",
   "execution_count": null,
   "id": "3869d651",
   "metadata": {},
   "outputs": [],
   "source": [
    "rfm_log.head(10)"
   ]
  },
  {
   "cell_type": "code",
   "execution_count": null,
   "id": "3197d470",
   "metadata": {},
   "outputs": [],
   "source": [
    "rfm_log.iplot(kind='histogram',subplots=True,bins=50);"
   ]
  },
  {
   "cell_type": "code",
   "execution_count": null,
   "id": "0bdde3d0",
   "metadata": {},
   "outputs": [],
   "source": [
    "# customer_rfm\n",
    "# rfm_trans = pd.merge(customer_rfm,rfm_log)\n",
    "# rfm_trans = pd.merge(customer_rfm,rfm_log, on=[])\n",
    "col=cell.drop([\"Recency_Score\",'Frequency_Score','Monetary_Score',\"Customer_RFM_Score\",'RFM_Label','Customer_Category','Monetary'],axis=1)\n",
    "rfm_trans = pd.concat([col,rfm_log,], axis=1,join='inner')"
   ]
  },
  {
   "cell_type": "code",
   "execution_count": null,
   "id": "62254b50",
   "metadata": {},
   "outputs": [],
   "source": [
    "rfm_trans.head(5)"
   ]
  },
  {
   "cell_type": "code",
   "execution_count": null,
   "id": "4890782f",
   "metadata": {},
   "outputs": [],
   "source": [
    "rfm_trans.iplot(kind='histogram', subplots=True, bins=50);"
   ]
  },
  {
   "cell_type": "code",
   "execution_count": null,
   "id": "8f7ade7c",
   "metadata": {},
   "outputs": [],
   "source": [
    "f, ax = plt.subplots(figsize=(10, 12))\n",
    "plt.subplot(3, 1, 1); sns.distplot(rfm_trans.Recency, label = 'Recency')\n",
    "plt.subplot(3, 1, 2); sns.distplot(rfm_trans.Frequency, label = 'Frequency')\n",
    "plt.subplot(3, 1, 3); sns.distplot(rfm_trans.Monetary, label = 'Monetary')\n",
    "plt.style.use('default')\n",
    "plt.tight_layout()\n",
    "plt.show()"
   ]
  },
  {
   "cell_type": "code",
   "execution_count": null,
   "id": "d90ce439",
   "metadata": {},
   "outputs": [],
   "source": [
    "plt.figure(figsize = (20,20));\n",
    "sns.pairplot(rfm_trans);"
   ]
  },
  {
   "cell_type": "code",
   "execution_count": null,
   "id": "5a0e2e25",
   "metadata": {},
   "outputs": [],
   "source": [
    "plt.figure(figsize = (15, 8))\n",
    "sns.scatterplot(data = rfm_trans);"
   ]
  },
  {
   "cell_type": "code",
   "execution_count": null,
   "id": "28698390",
   "metadata": {},
   "outputs": [],
   "source": [
    "plt.figure(figsize = (15, 8))\n",
    "sns.boxplot(data = rfm_trans);"
   ]
  },
  {
   "cell_type": "code",
   "execution_count": null,
   "id": "adefa46a",
   "metadata": {},
   "outputs": [],
   "source": [
    "rfm_trans.head()"
   ]
  },
  {
   "cell_type": "code",
   "execution_count": null,
   "id": "036f993a",
   "metadata": {},
   "outputs": [],
   "source": [
    "fig = px.scatter_3d(rfm_trans, \n",
    "                    x='Recency',\n",
    "                    y='Frequency',\n",
    "                    z='Monetary',\n",
    "                    color='Frequency')\n",
    "fig.show();"
   ]
  },
  {
   "cell_type": "code",
   "execution_count": null,
   "id": "38df1933",
   "metadata": {},
   "outputs": [],
   "source": []
  },
  {
   "cell_type": "markdown",
   "id": "2aac86e4",
   "metadata": {},
   "source": [
    "# K-Means Implementation"
   ]
  },
  {
   "cell_type": "markdown",
   "id": "1cf85a73",
   "metadata": {},
   "source": [
    "Defining the Optimal Number of Clusters"
   ]
  },
  {
   "cell_type": "code",
   "execution_count": null,
   "id": "c90978c6",
   "metadata": {},
   "outputs": [],
   "source": [
    "from sklearn.cluster import KMeans, AgglomerativeClustering\n",
    "from pyclustertend import hopkins\n",
    "from sklearn.preprocessing import scale\n",
    "from sklearn.metrics.cluster import adjusted_rand_score\n",
    "from sklearn.metrics import silhouette_samples,silhouette_score\n",
    "from scipy.cluster.hierarchy import linkage, dendrogram\n",
    "from yellowbrick.cluster import KElbowVisualizer"
   ]
  },
  {
   "cell_type": "code",
   "execution_count": null,
   "id": "f7afcecf",
   "metadata": {},
   "outputs": [],
   "source": [
    "\n",
    "scaler = StandardScaler()\n",
    "scaler.fit(rfm_trans)\n",
    "\n",
    "#Store it separately for clustering\n",
    "rfm_scaled = scaler.transform(rfm_trans)"
   ]
  },
  {
   "cell_type": "code",
   "execution_count": null,
   "id": "31ccc305",
   "metadata": {},
   "outputs": [],
   "source": [
    "hopkins(rfm_scaled, rfm_scaled.shape[0])"
   ]
  },
  {
   "cell_type": "markdown",
   "id": "841b0a90",
   "metadata": {},
   "source": [
    "Elbow method"
   ]
  },
  {
   "cell_type": "code",
   "execution_count": null,
   "id": "b49f4aa9",
   "metadata": {},
   "outputs": [],
   "source": [
    "#First : Get the Best KMeans \n",
    "ks = range(1, 12)\n",
    "inertias=[]\n",
    "for k in ks :\n",
    "    # Create a KMeans clusters\n",
    "    kc = KMeans(n_clusters=k, random_state=42)\n",
    "    kc.fit(rfm_scaled)\n",
    "    inertias.append(kc.inertia_)\n",
    "\n",
    "# Plot ks vs inertias\n",
    "f, ax = plt.subplots(figsize=(15, 8))\n",
    "plt.plot(ks, inertias, '-o')\n",
    "plt.xlabel('Number of clusters, k')\n",
    "plt.ylabel('Inertia')\n",
    "plt.xticks(ks)\n",
    "plt.style.use('ggplot')\n",
    "plt.title('What is the Best Number for KMeans?')\n",
    "plt.show()"
   ]
  },
  {
   "cell_type": "code",
   "execution_count": null,
   "id": "abb017a9",
   "metadata": {},
   "outputs": [],
   "source": [
    "# we will use rfm_scaled data from mow instead of rfm_log\n",
    "\n",
    "plt.rcParams['figure.facecolor'] = 'white'\n",
    "model = KMeans()\n",
    "visualizer = KElbowVisualizer(model, k=(1, 12))\n",
    "\n",
    "plt.figure(figsize=(14, 8))\n",
    "visualizer.fit(rfm_scaled)        # Fit the data to the visualizer\n",
    "visualizer.show()"
   ]
  },
  {
   "cell_type": "markdown",
   "id": "f350fd60",
   "metadata": {},
   "source": [
    "In the visualizer above, the KElbowVisualizer fits the model for a range of RFM clusters values from 1 to 11, which is set by the parameter k=(1, 12). When the model is fit with 3 clusters we can see an \"elbow\" in the graph, which in this case we know to be the optimal number since we created our synthetic dataset with 3 clusters of points.\n",
    "\n",
    "So it can be concluded that according to YellowBrick Elbow method above we are recommended to apply 3 n_clusters for modelling. In addition we will check Classic Elbow Method for a better decision-making"
   ]
  },
  {
   "cell_type": "markdown",
   "id": "a0fee887",
   "metadata": {},
   "source": [
    "Silhouette Coefficient"
   ]
  },
  {
   "cell_type": "code",
   "execution_count": null,
   "id": "53680fea",
   "metadata": {},
   "outputs": [],
   "source": [
    "ssd =[]\n",
    "\n",
    "K = range(2, 12)\n",
    "\n",
    "for k in K:\n",
    "    model = KMeans(n_clusters=k)\n",
    "    model.fit(rfm_scaled)\n",
    "    ssd.append(model.inertia_)\n",
    "    print(f'Silhouette Score for {k} clusters: {silhouette_score(rfm_scaled, model.labels_)}')"
   ]
  },
  {
   "cell_type": "code",
   "execution_count": null,
   "id": "24b1959e",
   "metadata": {},
   "outputs": [],
   "source": [
    "from sklearn.cluster import KMeans\n",
    "\n",
    "from yellowbrick.cluster import SilhouetteVisualizer\n",
    "\n",
    "model_3 = KMeans(n_clusters=3, random_state=42)\n",
    "visualizer = SilhouetteVisualizer(model_3)\n",
    "\n",
    "visualizer.fit(rfm_scaled)    # Fit the data to the visualizer\n",
    "visualizer.poof();"
   ]
  },
  {
   "cell_type": "markdown",
   "id": "2c054928",
   "metadata": {},
   "source": [
    "The Silhouette Coefficient computes the density of clusters computed by the model. The score is computed by averaging the silhouette coefficient for each sample, computed as the difference between the average intra-cluster distance and the mean nearest-cluster distance for each sample, normalized by the maximum value. This produces a score between 1 and -1, where 1 is highly dense clusters and -1 is completely incorrect clustering.\n",
    "\n",
    "In SilhouetteVisualizer plots, clusters with higher scores have wider silhouettes, but clusters that are less cohesive will fall short of the average score across all clusters, which is plotted as a vertical dotted red line. In other words, the vertical red-dotted line on the plot indicates the average silhouette score for all observations."
   ]
  },
  {
   "cell_type": "code",
   "execution_count": null,
   "id": "4ba562b8",
   "metadata": {},
   "outputs": [],
   "source": [
    "from yellowbrick.cluster import InterclusterDistance\n",
    "plt.rcParams[\"figure.figsize\"] = (10, 7)\n",
    "\n",
    "# Instantiate the clustering model and visualizer\n",
    "model = KMeans(3)\n",
    "visualizer = InterclusterDistance(model_3)\n",
    "\n",
    "visualizer.fit(rfm_scaled)  # Fit the data to the visualizer\n",
    "visualizer.show()  # Finalize and render the figure"
   ]
  },
  {
   "cell_type": "markdown",
   "id": "c6a4d1b4",
   "metadata": {},
   "source": [
    "Intercluster distance maps display an embedding of the cluster centers in 2 dimensions with the distance to other centers preserved, e.g. the closer two centers are in the visualization, the closer they are in the original feature space."
   ]
  },
  {
   "cell_type": "markdown",
   "id": "540ffd1e",
   "metadata": {},
   "source": [
    "Model Fitting\n",
    "\n",
    "Fit the K-Means Algorithm with the optimal number of clusters you decided and save the model to disk."
   ]
  },
  {
   "cell_type": "markdown",
   "id": "d2f4cb4a",
   "metadata": {},
   "source": [
    "WATCH OUT: Be careful when determining the number of \"n_clusters\" and the expressions corresponding to the \"labels\" or \"decision\" columns, as my cluster analysis gives different results each time I run my notebook. Please consider the analysis of your own results as I did."
   ]
  },
  {
   "cell_type": "code",
   "execution_count": null,
   "id": "a8c416a2",
   "metadata": {},
   "outputs": [],
   "source": [
    "# prediction was added\n",
    "\n",
    "kmeans = KMeans(n_clusters = 3).fit(rfm_scaled)\n",
    "kmeans.fit_predict(rfm_scaled)\n",
    "labels = kmeans.labels_\n",
    "rfm_trans['ClusterID']=labels\n",
    "rfm_trans"
   ]
  },
  {
   "cell_type": "code",
   "execution_count": null,
   "id": "c3642a51",
   "metadata": {},
   "outputs": [],
   "source": [
    "rfm_trans.ClusterID.value_counts()"
   ]
  },
  {
   "cell_type": "code",
   "execution_count": null,
   "id": "8a27576f",
   "metadata": {},
   "outputs": [],
   "source": [
    "fig = px.pie(df, values = rfm_trans['ClusterID'].value_counts(), \n",
    "             names = (rfm_trans['ClusterID'].value_counts()).index, \n",
    "             title = 'Predicted Clusters Distribution')\n",
    "fig.show()"
   ]
  },
  {
   "cell_type": "code",
   "execution_count": null,
   "id": "b933fc69",
   "metadata": {},
   "outputs": [],
   "source": [
    "customer_rfm['ClusterID'] = labels\n",
    "customer_rfm.sample(20)"
   ]
  },
  {
   "cell_type": "markdown",
   "id": "666457d4",
   "metadata": {},
   "source": [
    " Visualizing the Clusters\n",
    "\n",
    "1. Create a scatter plot and select cluster centers."
   ]
  },
  {
   "cell_type": "code",
   "execution_count": null,
   "id": "f3fa019e",
   "metadata": {},
   "outputs": [],
   "source": [
    "rfm_trans.sample(8)"
   ]
  },
  {
   "cell_type": "code",
   "execution_count": null,
   "id": "70c35fa7",
   "metadata": {},
   "outputs": [],
   "source": [
    "f, (ax1, ax2, ax3) = plt.subplots(1, 3, sharey=True, figsize=(14, 6)) # sharey=True ile y eksen labels lari ortak kullanirlar.\n",
    "\n",
    "ax1.set_title('Recency-Frequency')\n",
    "ax1.set_xlabel('Recency')\n",
    "ax1.set_ylabel('Frequency')\n",
    "ax1.scatter(rfm_trans.iloc[:, 0], rfm_trans.iloc[:, 1], c=kmeans.labels_, cmap=\"rainbow\")\n",
    "ax1.scatter(kmeans.cluster_centers_[:, 0], kmeans.cluster_centers_[:, 1], s=300, alpha=0.9, label = 'Centroids')\n",
    "\n",
    "ax2.set_title(\"Frequency-Monetary\")\n",
    "ax2.set_xlabel('Frequency')\n",
    "ax2.set_ylabel('Monetary')\n",
    "ax2.scatter(rfm_trans.iloc[:, 1], rfm_trans.iloc[:, 2], c=kmeans.labels_,cmap=\"rainbow\")\n",
    "ax2.scatter(kmeans.cluster_centers_[:, 1], kmeans.cluster_centers_[:, 2], s=300, alpha=0.9, label = 'Centroids')\n",
    "\n",
    "ax3.set_title(\"Recency-Monetary\")\n",
    "ax3.set_xlabel('Recency')\n",
    "ax3.set_ylabel('Monetary')\n",
    "ax3.scatter(rfm_trans.iloc[:, 0], rfm_trans.iloc[:, 2], c=kmeans.labels_,cmap=\"rainbow\")\n",
    "ax3.scatter(kmeans.cluster_centers_[:, 0], kmeans.cluster_centers_[:, 2], s=300, alpha=0.9, label = 'Centroids');"
   ]
  },
  {
   "cell_type": "markdown",
   "id": "c456a345",
   "metadata": {},
   "source": [
    "sualize Cluster Id vs Recency, Cluster Id vs Frequency and Cluster Id vs Monetary using Box plot. Also evaluate the results."
   ]
  },
  {
   "cell_type": "code",
   "execution_count": null,
   "id": "6f7a0bc1",
   "metadata": {},
   "outputs": [],
   "source": [
    "rfm_trans.sample(8)"
   ]
  },
  {
   "cell_type": "code",
   "execution_count": null,
   "id": "392895e4",
   "metadata": {},
   "outputs": [],
   "source": [
    "plt.figure(figsize=(15,6))\n",
    "\n",
    "plt.subplot(1, 3, 1)\n",
    "sns.boxplot(rfm_trans['ClusterID'], rfm_trans['Recency'])\n",
    "\n",
    "plt.subplot(1, 3, 2)\n",
    "sns.boxplot(rfm_trans['ClusterID'], rfm_trans['Frequency'])\n",
    "\n",
    "plt.subplot(1, 3, 3)\n",
    "sns.boxplot(rfm_trans['ClusterID'], rfm_trans['Monetary'])\n",
    "plt.show()"
   ]
  },
  {
   "cell_type": "code",
   "execution_count": null,
   "id": "5f01eba5",
   "metadata": {},
   "outputs": [],
   "source": [
    "for i in rfm_trans.drop(\"ClusterID\", axis=1):\n",
    "    rfm_trans[i].iplot(kind=\"box\", title=i, boxpoints=\"all\", color='lightseagreen')"
   ]
  },
  {
   "cell_type": "markdown",
   "id": "8b7000a7",
   "metadata": {},
   "source": [
    " Assigning the Label"
   ]
  },
  {
   "cell_type": "code",
   "execution_count": null,
   "id": "0bc84ebd",
   "metadata": {},
   "outputs": [],
   "source": [
    "rfm_trans['Labels'] = rfm_trans['ClusterID'].map({0:'Lost/Needed Attention Customers', 1:'Current Custemer', 2:'Top/Best Customer'})\n",
    "rfm_trans.sample(8) "
   ]
  },
  {
   "cell_type": "code",
   "execution_count": null,
   "id": "9f121d4c",
   "metadata": {},
   "outputs": [],
   "source": [
    "rfm_trans[rfm_trans['Labels'] == \"Lost/Needed Attention Customers\"]"
   ]
  },
  {
   "cell_type": "code",
   "execution_count": null,
   "id": "12b5d069",
   "metadata": {},
   "outputs": [],
   "source": [
    "rfm_trans[rfm_trans['Labels'] == \"Top/Best Customer\"]\n"
   ]
  },
  {
   "cell_type": "code",
   "execution_count": null,
   "id": "1dc6636d",
   "metadata": {},
   "outputs": [],
   "source": [
    "rfm_trans[rfm_trans['Labels'] == \"Current Custemer\"]"
   ]
  },
  {
   "cell_type": "code",
   "execution_count": null,
   "id": "b738bd62",
   "metadata": {},
   "outputs": [],
   "source": [
    "customer_rfm.sample(10)"
   ]
  },
  {
   "cell_type": "code",
   "execution_count": null,
   "id": "5ef1a75d",
   "metadata": {},
   "outputs": [],
   "source": [
    "customer_rfm[customer_rfm['ClusterID'] == 0].sample(10)"
   ]
  },
  {
   "cell_type": "code",
   "execution_count": null,
   "id": "0a0ab1a7",
   "metadata": {},
   "outputs": [],
   "source": [
    "customer_rfm[customer_rfm['ClusterID'] == 1].sample(10)"
   ]
  },
  {
   "cell_type": "code",
   "execution_count": null,
   "id": "fb9998f3",
   "metadata": {},
   "outputs": [],
   "source": [
    "customer_rfm[customer_rfm['ClusterID'] == 2].sample(10)"
   ]
  },
  {
   "cell_type": "markdown",
   "id": "56a8fcb0",
   "metadata": {},
   "source": [
    " Conclusion\n",
    "\n",
    "\n",
    "- Cluster 0 : The first cluster is more related to the \"Lost/Needed Attention Customers\" who used to visit and shopping at different frequencies or who are still customer but haven’t been visiting recently. The store/department should bring them back with relevant personalized promotions, and run surveys to find out what went wrong and avoid losing them to a competitor.\n",
    "\n",
    "- Cluster 1 : The second cluster belongs to the \"Current Custemer\" who have been shopping at different frequencies and spending in varying amounts. The store/department should offer membership or loyalty programs or recommend related products to upsell them and help them become its Loyalists or Champions, and offer renewals and helpful products to encourage another purchase.\n",
    "\n",
    "- Cluster 2 : The third cluster can be interpreted as \"Top/Best Customers\" who have been shopping in average frequency or most recently, but spent a good amount. The store/department should reward or offer membership or loyalty programs them to become its Loyalists or Champions."
   ]
  },
  {
   "cell_type": "code",
   "execution_count": null,
   "id": "1e7bd6ec",
   "metadata": {},
   "outputs": [],
   "source": [
    "rfm_trans.shape"
   ]
  },
  {
   "cell_type": "code",
   "execution_count": null,
   "id": "91c95945",
   "metadata": {},
   "outputs": [],
   "source": [
    "customer_rfm.shape"
   ]
  },
  {
   "cell_type": "code",
   "execution_count": null,
   "id": "1538ed5e",
   "metadata": {},
   "outputs": [],
   "source": [
    "# column to added from first dataframe to second\n",
    "extracted_col = rfm_trans['Labels']\n",
    "\n",
    "# Second dataframe after adding column from first dataframe\n",
    "customer_rfm.insert(10, \"K-Means Predicted Cluster\", extracted_col)\n",
    "# customer_rfm = customer_rfm.join(extracted_col)\n",
    "customer_rfm['K-Means Predicted Cluster'] = rfm_trans['Labels'].values\n",
    "customer_rfm.sample(8)"
   ]
  },
  {
   "cell_type": "code",
   "execution_count": null,
   "id": "2d186fbb",
   "metadata": {},
   "outputs": [],
   "source": [
    "customer_rfm['Customer_Category'].value_counts()"
   ]
  },
  {
   "cell_type": "code",
   "execution_count": null,
   "id": "d57419f4",
   "metadata": {},
   "outputs": [],
   "source": [
    "RFM_Customer_Segment = pd.DataFrame(customer_rfm['Customer_Category'].value_counts(dropna=False).sort_values(ascending=False))\n",
    "RFM_Customer_Segment.reset_index(inplace=True)\n",
    "RFM_Customer_Segment.rename(columns={'index':'RFM Customer Segment', 'Customer_Category':'The Number Of Customer'}, inplace=True)\n",
    "RFM_Customer_Segment"
   ]
  },
  {
   "cell_type": "code",
   "execution_count": null,
   "id": "ad4dd4fe",
   "metadata": {},
   "outputs": [],
   "source": [
    "customer_rfm['K-Means Predicted Cluster'].value_counts()"
   ]
  },
  {
   "cell_type": "code",
   "execution_count": null,
   "id": "e28479a8",
   "metadata": {},
   "outputs": [],
   "source": [
    "KMeans_Predicted_Clusters = pd.DataFrame(customer_rfm['K-Means Predicted Cluster'].value_counts(dropna=False).sort_values(ascending=False))\n",
    "KMeans_Predicted_Clusters.reset_index(inplace=True)\n",
    "KMeans_Predicted_Clusters.rename(columns={'index':'K-Means Predicted Cluster', 'K-Means Predicted Cluster':'The Number Of Customer'}, inplace=True)\n",
    "KMeans_Predicted_Clusters"
   ]
  },
  {
   "cell_type": "code",
   "execution_count": null,
   "id": "177b5c6f",
   "metadata": {},
   "outputs": [],
   "source": [
    "fig = go.Figure()\n",
    "fig.add_trace(go.Bar(\n",
    "    x=customer_rfm['K-Means Predicted Cluster'].values,\n",
    "    y=customer_rfm['K-Means Predicted Cluster'].index,\n",
    "    name='Predicted-Clusters By K-Means',\n",
    "    marker_color='indianred'\n",
    "))\n",
    "fig.add_trace(go.Bar(\n",
    "    x=customer_rfm['Customer_Category'].values,\n",
    "    y=customer_rfm['Customer_Category'].index,\n",
    "    name='Customer-Segment By RFM Analysis',\n",
    "    marker_color='lightsalmon'\n",
    "))\n",
    "\n",
    "# Here we modify the tickangle of the xaxis, resulting in rotated labels.\n",
    "fig.update_layout(barmode='relative', \n",
    "                  xaxis_tickangle=-45, \n",
    "                  title=\"The Comparison of Predicted-Clusters By K-Means vs Customer-Segment By RFM Analysis\")\n",
    "fig.update_traces(dict(marker_line_width=0))\n",
    "fig.show()"
   ]
  },
  {
   "cell_type": "markdown",
   "id": "51e445c7",
   "metadata": {},
   "source": []
  },
  {
   "cell_type": "code",
   "execution_count": null,
   "id": "be932b80",
   "metadata": {},
   "outputs": [],
   "source": []
  }
 ],
 "metadata": {
  "kernelspec": {
   "display_name": "Python 3",
   "language": "python",
   "name": "python3"
  },
  "language_info": {
   "codemirror_mode": {
    "name": "ipython",
    "version": 3
   },
   "file_extension": ".py",
   "mimetype": "text/x-python",
   "name": "python",
   "nbconvert_exporter": "python",
   "pygments_lexer": "ipython3",
   "version": "3.8.8"
  }
 },
 "nbformat": 4,
 "nbformat_minor": 5
}
